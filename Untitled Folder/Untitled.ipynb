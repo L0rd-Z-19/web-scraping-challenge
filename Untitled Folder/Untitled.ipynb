{
 "cells": [
  {
   "cell_type": "code",
   "execution_count": 44,
   "metadata": {},
   "outputs": [],
   "source": [
    "import pandas as pd\n",
    "from splinter import Browser\n",
    "from bs4 import BeautifulSoup\n",
    "import time\n",
    "\n",
    "#get from the mars.nasa website an article title and teaser text\n",
    "executable_path = {'executable_path': '/chromedriver'}\n",
    "browser = Browser('chrome',  headless=False)\n",
    "browser.visit('https://mars.nasa.gov/news/?page=0&per_page=40&order=publish_date+desc%2Ccreated_at+desc&search=&category=19%2C165%2C184%2C204&blank_scope=Latest')\n",
    "time.sleep(2)\n",
    "soup = BeautifulSoup(browser.html, 'html.parser')\n",
    "soup2=soup.find('div',class_='image_and_description_container')\n",
    "title=soup2.find('a')['href']\n",
    "title=title.split('/')\n",
    "title=title[3].split('-')\n",
    "seperator = ' '\n",
    "mars_title = seperator.join(title)\n",
    "mars_para=soup2.find('div', class_='rollover_description_inner').text\n",
    "\n",
    "#get the featured image off the nasa webpage\n",
    "browser.visit('https://www.jpl.nasa.gov/spaceimages/?search=&category=Mars')\n",
    "time.sleep(2)\n",
    "browser.click_link_by_partial_text('FULL IMAGE')\n",
    "time.sleep(2)\n",
    "html = browser.html\n",
    "soup = BeautifulSoup(html, 'html.parser')\n",
    "img = soup.find('img',class_='fancybox-image')\n",
    "featured_image_url = f\"https://www.jpl.nasa.gov/{img['src']}\"\n",
    "\n",
    "#get mars weather from twitter\n",
    "browser.visit('https://twitter.com/marswxreport?lang=en')\n",
    "time.sleep(2)\n",
    "html = browser.html\n",
    "soup = BeautifulSoup(html, 'html.parser')\n",
    "soup2 = soup.find('div', class_=\"css-901oao r-jwli3a r-1qd0xha r-a023e6 r-16dba41 r-ad9z0x r-bcqeeo r-bnwqim r-qvutc0\")\n",
    "mars_weather = soup2.find('span',class_=\"css-901oao css-16my406 r-1qd0xha r-ad9z0x r-bcqeeo r-qvutc0\").text\n",
    "\n",
    "#get the  table of mars facts from space facts\n",
    "browser.visit('https://space-facts.com/mars/')\n",
    "time.sleep(2)\n",
    "mars_fact = browser.html\n",
    "\n",
    "#get the 4 hemisphere pictures\n",
    "partial=['Cerberus','Schiaparelli','Syrtis','Valles Marineris']\n",
    "mars_hemispheres = []\n",
    "back_img = ['back_up_photos/Astropedia_enhanced.jpg','back_up_photos/cerberus_enhanced.jpg','back_up_photos/schiaparelli_enhanced.jpg','back_up_photos/Valles_marillies_enhanced.jpg']\n",
    "back_title = ['Astropedia','Cerberus','Schiaparelli','Valles Marillies']\n",
    "i=0\n",
    "for h in range(4):\n",
    "    hemis = {'titles' : back_title[i], 'images' : back_img[i]}\n",
    "    mars_hemispheres.append(hemis)\n",
    "    i+=1\n",
    "browser.quit()\n"
   ]
  },
  {
   "cell_type": "code",
   "execution_count": 45,
   "metadata": {},
   "outputs": [],
   "source": [
    "package = [mars_title,mars_para,featured_image_url,mars_weather,mars_fact,mars_hemispheres]"
   ]
  },
  {
   "cell_type": "code",
   "execution_count": 46,
   "metadata": {},
   "outputs": [],
   "source": [
    "import pymongo\n",
    "client = pymongo.MongoClient('mongodb://localhost:27017')\n",
    "db = client.mars_db\n",
    "mars_db = db.mars_collection.find()"
   ]
  },
  {
   "cell_type": "code",
   "execution_count": 60,
   "metadata": {},
   "outputs": [
    {
     "data": {
      "text/plain": [
       "[{'_id': 0,\n",
       "  'news': ['nasas curiosity keeps rolling as team operates rover from home',\n",
       "   'The team has learned to meet new challenges as they work remotely on the Mars mission.']},\n",
       " {'_id': 1,\n",
       "  'image': 'https://www.jpl.nasa.gov//spaceimages/images/mediumsize/PIA18907_ip.jpg'},\n",
       " {'_id': 2,\n",
       "  'weather': 'InSight sol 492 (2020-04-15) low -94.4ºC (-137.9ºF) high -5.5ºC (22.2ºF)\\nwinds from the SW at 5.1 m/s (11.5 mph) gusting to 14.9 m/s (33.3 mph)\\npressure at 6.60 hPa'},\n",
       " {'_id': 3, 'facts': 'package[4]'},\n",
       " {'_id': 4,\n",
       "  'hemis': [{'titles': 'Astropedia',\n",
       "    'images': 'back_up_photos/Astropedia_enhanced.jpg'},\n",
       "   {'titles': 'Cerberus', 'images': 'back_up_photos/cerberus_enhanced.jpg'},\n",
       "   {'titles': 'Schiaparelli',\n",
       "    'images': 'back_up_photos/schiaparelli_enhanced.jpg'},\n",
       "   {'titles': 'Valles Marillies',\n",
       "    'images': 'back_up_photos/Valles_marillies_enhanced.jpg'}]}]"
      ]
     },
     "execution_count": 60,
     "metadata": {},
     "output_type": "execute_result"
    }
   ],
   "source": [
    "mars_data = [{'_id': 0,'news':[package[0],package[1]]}, {'_id': 1,'image': package[2]}, {'_id': 2,'weather': package[3]}, {'_id': 3,'facts': \"package[4]\"}, {'_id': 4,'hemis': package[5]}]\n",
    "mars_data"
   ]
  },
  {
   "cell_type": "code",
   "execution_count": 61,
   "metadata": {},
   "outputs": [
    {
     "data": {
      "text/plain": [
       "<pymongo.results.InsertManyResult at 0x210e9865a00>"
      ]
     },
     "execution_count": 61,
     "metadata": {},
     "output_type": "execute_result"
    }
   ],
   "source": [
    "db.mars_db.insert_many(mars_data)"
   ]
  },
  {
   "cell_type": "code",
   "execution_count": 23,
   "metadata": {},
   "outputs": [
    {
     "name": "stdout",
     "output_type": "stream",
     "text": [
      "{'_id': 0, 'news': ['nasas curiosity keeps rolling as team operates rover from home', 'The team has learned to meet new challenges as they work remotely on the Mars mission.']}\n",
      "{'_id': 1, 'image': 'https://www.jpl.nasa.gov//spaceimages/images/mediumsize/PIA18791_ip.jpg'}\n",
      "{'_id': 2, 'weather': 'InSight sol 492 (2020-04-15) low -94.4ºC (-137.9ºF) high -5.5ºC (22.2ºF)\\nwinds from the SW at 5.1 m/s (11.5 mph) gusting to 14.9 m/s (33.3 mph)\\npressure at 6.60 hPa'}\n",
      "{'_id': 3, 'facts': 'package[4]'}\n",
      "{'_id': 4, 'hemis': [{'Cerberus Hemisphere Enhanced': 'http://astropedia.astrogeology.usgs.gov/download/Mars/Viking/cerberus_enhanced.tif'}, {'Schiaparelli Hemisphere Enhanced': 'http://astropedia.astrogeology.usgs.gov/download/Mars/Viking/schiaparelli_enhanced.tif'}, {'Syrtis Major Hemisphere Enhanced': 'http://astropedia.astrogeology.usgs.gov/download/Mars/Viking/syrtis_major_enhanced.tif'}, {'Valles Marineris Hemisphere Enhanced': 'http://astropedia.astrogeology.usgs.gov/download/Mars/Viking/valles_marineris_enhanced.tif'}]}\n"
     ]
    }
   ],
   "source": [
    "item = db.mars_db.find()\n",
    "for i in item:\n",
    "    print(i)"
   ]
  },
  {
   "cell_type": "code",
   "execution_count": 39,
   "metadata": {},
   "outputs": [
    {
     "data": {
      "text/plain": [
       "'http://astropedia.astrogeology.usgs.gov/download/Mars/Viking/cerberus_enhanced.tif'"
      ]
     },
     "execution_count": 39,
     "metadata": {},
     "output_type": "execute_result"
    }
   ],
   "source": [
    "featured = db.mars_db.find_one({'_id': 4})\n",
    "featured['hemis'][0]['titles']"
   ]
  }
 ],
 "metadata": {
  "kernelspec": {
   "display_name": "Python 3.8.2 64-bit ('pythonData': conda)",
   "language": "python",
   "name": "python38264bitpythondatacondaa100fd0e9be14897800f29369b5c35d1"
  },
  "language_info": {
   "codemirror_mode": {
    "name": "ipython",
    "version": 3
   },
   "file_extension": ".py",
   "mimetype": "text/x-python",
   "name": "python",
   "nbconvert_exporter": "python",
   "pygments_lexer": "ipython3",
   "version": "3.8.2"
  }
 },
 "nbformat": 4,
 "nbformat_minor": 4
}
